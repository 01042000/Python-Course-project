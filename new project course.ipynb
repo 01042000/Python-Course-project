{
  "cells": [
    {
      "cell_type": "markdown",
      "id": "4ba11619",
      "metadata": {
        "id": "4ba11619"
      },
      "source": [
        "# Traffic Volume and Social Media Analysis using Python\n",
        "### Name : SHIVAM TRIPATHI\n",
        "### Roll No : 231030054"
      ]
    },
    {
      "cell_type": "code",
      "execution_count": null,
      "id": "8d3a5434",
      "metadata": {
        "id": "8d3a5434"
      },
      "outputs": [],
      "source": [
        "#Loading neccessary package\n",
        "import numpy as np\n",
        "import re"
      ]
    },
    {
      "cell_type": "markdown",
      "id": "9fa8a17b",
      "metadata": {
        "id": "9fa8a17b"
      },
      "source": [
        "### TRAFFIC VOLUME ANALYSIS"
      ]
    },
    {
      "cell_type": "code",
      "execution_count": null,
      "id": "1a6514a5",
      "metadata": {
        "scrolled": true,
        "id": "1a6514a5"
      },
      "outputs": [],
      "source": [
        "#Part- (a)\n",
        "# Reading file i.e Data contains monthly traffic volume data (in vehicles) of a few sites in a given city\n",
        "data_set= np.loadtxt('data.txt',delimiter=',')"
      ]
    },
    {
      "cell_type": "code",
      "execution_count": null,
      "id": "cc324f06",
      "metadata": {
        "scrolled": true,
        "id": "cc324f06",
        "outputId": "8cae48b7-1f0f-4f99-8ab0-6069de845fae"
      },
      "outputs": [
        {
          "name": "stdout",
          "output_type": "stream",
          "text": [
            " number of sites for each traffic volume data is 50\n"
          ]
        }
      ],
      "source": [
        "#Part - (b)\n",
        "#To check the No of Sites given in data set of traffic volume\n",
        "print(\" number of sites for each traffic volume data is\" , data_set.shape[0])"
      ]
    },
    {
      "cell_type": "code",
      "execution_count": null,
      "id": "41052254",
      "metadata": {
        "id": "41052254",
        "outputId": "7ee27939-3be5-4b73-fb0b-3f760365366b"
      },
      "outputs": [
        {
          "name": "stdout",
          "output_type": "stream",
          "text": [
            "monthly average traffic volume for First 5 site =  [707. 782. 720. 778. 720.]\n"
          ]
        }
      ],
      "source": [
        "#Part - (c)\n",
        "#monthly average traffic (MAT) volume for each site\n",
        "mat= data_set.sum(axis=1)//12\n",
        "\n",
        "#output of MAT for the first 5 sites\n",
        "frst5_site=mat[0:5]\n",
        "print(\"monthly average traffic volume for First 5 site = \" , frst5_site)"
      ]
    },
    {
      "cell_type": "code",
      "execution_count": null,
      "id": "fb308ca0",
      "metadata": {
        "id": "fb308ca0",
        "outputId": "31803ac7-ea5b-4dcd-e045-7d5bb063fefa"
      },
      "outputs": [
        {
          "name": "stdout",
          "output_type": "stream",
          "text": [
            "Site having maximum total yearly volume is  34\n",
            "Site having minimum total yearly volume is  37\n"
          ]
        }
      ],
      "source": [
        "#Part - (d)\n",
        "#total yearly volume for each site\n",
        "tyv = data_set.sum(axis=1)\n",
        "\n",
        "#site has maximum total yearly volume\n",
        "s_max=np.argmax(tyv, axis=0)+1\n",
        "print(\"Site having maximum total yearly volume is \", s_max)\n",
        "\n",
        "# site has minimum yearly volume\n",
        "s_min = np.argmin(tyv, axis=0)+1\n",
        "print(\"Site having minimum total yearly volume is \", s_min)"
      ]
    },
    {
      "cell_type": "code",
      "execution_count": null,
      "id": "0ab654fe",
      "metadata": {
        "id": "0ab654fe",
        "outputId": "41fd6d21-ed5c-4a2b-b985-a62c35bc31a6"
      },
      "outputs": [
        {
          "name": "stdout",
          "output_type": "stream",
          "text": [
            "maximum yearly volume of Site  34 is 10108.0\n",
            "minimum yearly volume of Site  37 is 7759.0\n"
          ]
        }
      ],
      "source": [
        "#Part - (e)\n",
        "#maximum yearly volume\n",
        "print(\"maximum yearly volume of Site \" ,s_max, \"is\" ,max(tyv))\n",
        "\n",
        "#minimum yearly volume\n",
        "print(\"minimum yearly volume of Site \" ,s_min, \"is\" ,min(tyv))"
      ]
    },
    {
      "cell_type": "code",
      "execution_count": null,
      "id": "52dbece7",
      "metadata": {
        "id": "52dbece7",
        "outputId": "e60d644b-70c4-4f6e-efa6-82b18f1db14d"
      },
      "outputs": [
        {
          "name": "stdout",
          "output_type": "stream",
          "text": [
            "month experienced maximum traffic volume is 10\n",
            "month experienced minimum traffic volume is 6\n"
          ]
        }
      ],
      "source": [
        "#Part - (f)\n",
        "#Monthly traffic volume across all site\n",
        "mtv= data_set.sum(axis=0)\n",
        "\n",
        "#month experienced maximum traffic volume across all sites\n",
        "max_mtv = np.argmax(mtv,axis=0)+1\n",
        "print(\"month experienced maximum traffic volume is\" , max_mtv)\n",
        "\n",
        "# month experienced minimum traffic volume across all sites\n",
        "min_mtv= np.argmin(mtv , axis=0)+1\n",
        "print(\"month experienced minimum traffic volume is\" , min_mtv)\n"
      ]
    },
    {
      "cell_type": "code",
      "execution_count": null,
      "id": "a5b5c2e4",
      "metadata": {
        "id": "a5b5c2e4",
        "outputId": "eab8861e-3692-47e9-aeb9-cabf36b6e409"
      },
      "outputs": [
        {
          "name": "stdout",
          "output_type": "stream",
          "text": [
            "Sites having total yearly volume > 9700 vehicles : [18, 28, 34, 35, 46]\n"
          ]
        }
      ],
      "source": [
        "#Part - (g)\n",
        "# Which sites has total yearly volume > 9700 vehicles\n",
        "site_g = np.where(tyv>9700)\n",
        "\n",
        "# Get the sites with total yearly volume > 9700\n",
        "sites = [index for index in site_g[0]+1]\n",
        "\n",
        "print(\"Sites having total yearly volume > 9700 vehicles :\", sites)"
      ]
    },
    {
      "cell_type": "code",
      "execution_count": null,
      "id": "217883dc",
      "metadata": {
        "id": "217883dc",
        "outputId": "195636f1-fd3b-4ca1-d632-792d0f75c583"
      },
      "outputs": [
        {
          "name": "stdout",
          "output_type": "stream",
          "text": [
            "Months where the total monthly volume for the entire city > 38,000 vehicles : [10, 11]\n"
          ]
        }
      ],
      "source": [
        "#Part-(h)\n",
        "#months where the total monthly volume for the entire city is greater than 38,000 vehicles\n",
        "mnth_g= np.where(mtv>38000)\n",
        "\n",
        "# Get the sites with total yearly volume > 38000\n",
        "site = [index for index in mnth_g[0]+1]\n",
        "\n",
        "print(\"Months where the total monthly volume for the entire city > 38,000 vehicles :\", site)\n"
      ]
    },
    {
      "cell_type": "markdown",
      "id": "d50027ae",
      "metadata": {
        "id": "d50027ae"
      },
      "source": [
        "## TWEET ANALYSIS\n"
      ]
    },
    {
      "cell_type": "code",
      "execution_count": null,
      "id": "c093de86",
      "metadata": {
        "id": "c093de86"
      },
      "outputs": [],
      "source": [
        "#Part - (a)\n",
        "x_tweet = \"Neeraj Chopra brings home the much awaited Gold First place medal for Flag of India in his debut Olympic Games.\\\n",
        "        The gigantic effort made sure India has best ever medal haul in the olympics. Congratulations champ Neeraj Chopra,\\\n",
        "        the whole nation is proud of you\""
      ]
    },
    {
      "cell_type": "code",
      "execution_count": null,
      "id": "153fbbae",
      "metadata": {
        "id": "153fbbae",
        "outputId": "5f940972-441c-414e-cadf-3beb92715c66"
      },
      "outputs": [
        {
          "name": "stdout",
          "output_type": "stream",
          "text": [
            "Output list = ['Neeraj', 'Chopra', 'brings', 'home', 'the', 'much', 'awaited', 'Gold', 'First', 'place', 'medal', 'for', 'Flag', 'of', 'India', 'in', 'his', 'debut', 'Olympic', 'Games.', 'The', 'gigantic', 'effort', 'made', 'sure', 'India', 'has', 'best', 'ever', 'medal', 'haul', 'in', 'the', 'olympics.', 'Congratulations', 'champ', 'Neeraj', 'Chopra,', 'the', 'whole', 'nation', 'is', 'proud', 'of', 'you']\n"
          ]
        }
      ],
      "source": [
        "#Part - (b)\n",
        "tweet_lst = re.split(\"\\s+\" , x_tweet)\n",
        "print(\"Output list =\", tweet_lst)"
      ]
    },
    {
      "cell_type": "code",
      "execution_count": null,
      "id": "2db6554d",
      "metadata": {
        "id": "2db6554d",
        "outputId": "0e519d57-d561-4390-c6ab-366b34eb744c"
      },
      "outputs": [
        {
          "name": "stdout",
          "output_type": "stream",
          "text": [
            "total words in the tweet =  45\n"
          ]
        }
      ],
      "source": [
        "#Part - (c)\n",
        "#How many words are present in the tweet?\n",
        "total_words = len(tweet_lst)\n",
        "print(\"total words in the tweet = \", total_words)"
      ]
    },
    {
      "cell_type": "code",
      "execution_count": null,
      "id": "66e8aa85",
      "metadata": {
        "id": "66e8aa85",
        "outputId": "0a843ca2-6218-4bc6-f083-b64c5f0ccef5"
      },
      "outputs": [
        {
          "name": "stdout",
          "output_type": "stream",
          "text": [
            "Total unique words present in tweet are = 38\n"
          ]
        }
      ],
      "source": [
        "#Part - (d)\n",
        "#How many unique words are present in the tweet?\n",
        "uniq_words =set(tweet_lst)\n",
        "print(\"Total unique words present in tweet are =\" , len(uniq_words) )\n"
      ]
    },
    {
      "cell_type": "code",
      "execution_count": null,
      "id": "f2d57dbc",
      "metadata": {
        "id": "f2d57dbc"
      },
      "outputs": [],
      "source": []
    }
  ],
  "metadata": {
    "kernelspec": {
      "display_name": "Python 3 (ipykernel)",
      "language": "python",
      "name": "python3"
    },
    "language_info": {
      "codemirror_mode": {
        "name": "ipython",
        "version": 3
      },
      "file_extension": ".py",
      "mimetype": "text/x-python",
      "name": "python",
      "nbconvert_exporter": "python",
      "pygments_lexer": "ipython3",
      "version": "3.11.4"
    },
    "colab": {
      "provenance": []
    }
  },
  "nbformat": 4,
  "nbformat_minor": 5
}